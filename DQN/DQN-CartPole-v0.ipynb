{
 "cells": [
  {
   "cell_type": "markdown",
   "metadata": {},
   "source": [
    "- 知识参考\n",
    "\n",
    "[1] [强化学习之六：Deep Q-Network and Beyond](https://blog.csdn.net/qq_32690999/article/details/79302093)\n",
    "\n",
    "# DQN\n",
    "\n",
    "\n",
    "\n",
    "## 相对\n",
    "\n"
   ]
  },
  {
   "cell_type": "code",
   "execution_count": 10,
   "metadata": {},
   "outputs": [
    {
     "ename": "IndentationError",
     "evalue": "expected an indented block (<ipython-input-10-02a850bb0d76>, line 16)",
     "output_type": "error",
     "traceback": [
      "\u001b[0;36m  File \u001b[0;32m\"<ipython-input-10-02a850bb0d76>\"\u001b[0;36m, line \u001b[0;32m16\u001b[0m\n\u001b[0;31m    class NN:\u001b[0m\n\u001b[0m        ^\u001b[0m\n\u001b[0;31mIndentationError\u001b[0m\u001b[0;31m:\u001b[0m expected an indented block\n"
     ]
    }
   ],
   "source": [
    "import tensorflow as tf\n",
    "import numpy as np\n",
    "import gym\n",
    "\n",
    "env=gym.make('CartPole-v0')\n",
    "\n",
    "state_shape=env.observation_space.shape;\n",
    "action_shape=env.action_space.shape;\n",
    "\n",
    "input_vec=tf.placeholder(dtype=tf.int32,name='state_input',shape=state_shape)\n",
    "output_vec=tf.placeholder(dtype=tf.int32,name='state_input',shape=action_shape)\n",
    "\n",
    "with tf.Session() as sess:\n",
    "\n",
    "    \n",
    "class NN:\n",
    "    \n",
    "    def __init__():\n",
    "    \n",
    "    def \n",
    "    \n"
   ]
  },
  {
   "cell_type": "code",
   "execution_count": null,
   "metadata": {
    "collapsed": true
   },
   "outputs": [],
   "source": []
  }
 ],
 "metadata": {
  "kernelspec": {
   "display_name": "Python 3",
   "language": "python",
   "name": "python3"
  },
  "language_info": {
   "codemirror_mode": {
    "name": "ipython",
    "version": 3
   },
   "file_extension": ".py",
   "mimetype": "text/x-python",
   "name": "python",
   "nbconvert_exporter": "python",
   "pygments_lexer": "ipython3",
   "version": "3.6.1"
  }
 },
 "nbformat": 4,
 "nbformat_minor": 2
}
