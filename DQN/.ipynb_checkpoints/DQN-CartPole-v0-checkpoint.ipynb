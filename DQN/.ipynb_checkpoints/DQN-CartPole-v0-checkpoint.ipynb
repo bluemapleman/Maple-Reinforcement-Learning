{
 "cells": [
  {
   "cell_type": "markdown",
   "metadata": {},
   "source": [
    "- 知识参考\n",
    "\n",
    "[1] [强化学习之六：Deep Q-Network and Beyond](https://blog.csdn.net/qq_32690999/article/details/79302093)\n",
    "\n",
    "# DQN\n",
    "\n",
    "\n",
    "\n",
    "## 相对\n",
    "\n"
   ]
  },
  {
   "cell_type": "code",
   "execution_count": 9,
   "metadata": {},
   "outputs": [
    {
     "name": "stdout",
     "output_type": "stream",
     "text": [
      "Tensor(\"state_input:0\", shape=(4,), dtype=int32)\n"
     ]
    }
   ],
   "source": [
    "import tensorflow as tf\n",
    "import numpy as np\n",
    "import gym\n",
    "\n",
    "env=gym.make('CartPole-v0')\n",
    "\n",
    "state_shape=env.observation_space.shape;\n",
    "action_shape=env.action_space.shape;\n",
    "\n",
    "input_vec=tf.placeholder(dtype=tf.int32,name='state_input',shape=state_shape)\n",
    "output_vec=tf.placeholder(dtype=tf.int32,name='state_input',shape=action_shape)\n",
    "\n",
    "with tf.Session() as sess:\n",
    "\n",
    "    \n",
    "class NN:\n",
    "    \n",
    "    def __init__():\n",
    "    \n",
    "    def \n",
    "    \n"
   ]
  },
  {
   "cell_type": "code",
   "execution_count": null,
   "metadata": {
    "collapsed": true
   },
   "outputs": [],
   "source": []
  }
 ],
 "metadata": {
  "kernelspec": {
   "display_name": "Python 3",
   "language": "python",
   "name": "python3"
  },
  "language_info": {
   "codemirror_mode": {
    "name": "ipython",
    "version": 3
   },
   "file_extension": ".py",
   "mimetype": "text/x-python",
   "name": "python",
   "nbconvert_exporter": "python",
   "pygments_lexer": "ipython3",
   "version": "3.6.1"
  }
 },
 "nbformat": 4,
 "nbformat_minor": 2
}
